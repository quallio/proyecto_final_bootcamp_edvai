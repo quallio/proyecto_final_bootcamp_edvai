{
 "cells": [
  {
   "cell_type": "code",
   "execution_count": 45,
   "metadata": {},
   "outputs": [],
   "source": [
    "import pandas as pd\n",
    "from funpymodeling import status\n",
    "import mlflow.sklearn"
   ]
  },
  {
   "cell_type": "code",
   "execution_count": 46,
   "metadata": {},
   "outputs": [
    {
     "data": {
      "text/plain": [
       "<Experiment: artifact_location='file:///c:/Users/facuq/Documents/DATOS%20VIVOS/Bootcamp/Proyecto%20final/Parte_A/mlruns/233906058775337701', creation_time=1687455498276, experiment_id='233906058775337701', last_update_time=1687455498276, lifecycle_stage='active', name='Proyecto_final_bootcamp', tags={}>"
      ]
     },
     "execution_count": 46,
     "metadata": {},
     "output_type": "execute_result"
    }
   ],
   "source": [
    "# Le asignamos un nombre a nuestro experimento\n",
    "\n",
    "mlflow.set_experiment(experiment_name=\"Proyecto_final_bootcamp\")"
   ]
  },
  {
   "cell_type": "code",
   "execution_count": 47,
   "metadata": {},
   "outputs": [],
   "source": [
    "data = pd.read_csv(\"data/ohe_customer_dataset.csv\", sep=',') "
   ]
  },
  {
   "cell_type": "code",
   "execution_count": 48,
   "metadata": {},
   "outputs": [],
   "source": [
    "customer_dataset_preparado_sin_ohe = pd.read_csv(\"data/customer_dataset_preparado_sin_ohe.csv\", sep=\",\")\n",
    "data['fraudulent'] = customer_dataset_preparado_sin_ohe['fraudulent']"
   ]
  },
  {
   "cell_type": "code",
   "execution_count": 49,
   "metadata": {},
   "outputs": [
    {
     "data": {
      "text/plain": [
       "(622, 64)"
      ]
     },
     "execution_count": 49,
     "metadata": {},
     "output_type": "execute_result"
    }
   ],
   "source": [
    "# Guardamos el tamaño del dataset actual en MLflow\n",
    "mlflow.log_param(\"Tamaño del dataset\", data.shape)"
   ]
  },
  {
   "cell_type": "code",
   "execution_count": 50,
   "metadata": {},
   "outputs": [
    {
     "data": {
      "text/html": [
       "<div>\n",
       "<style scoped>\n",
       "    .dataframe tbody tr th:only-of-type {\n",
       "        vertical-align: middle;\n",
       "    }\n",
       "\n",
       "    .dataframe tbody tr th {\n",
       "        vertical-align: top;\n",
       "    }\n",
       "\n",
       "    .dataframe thead th {\n",
       "        text-align: right;\n",
       "    }\n",
       "</style>\n",
       "<table border=\"1\" class=\"dataframe\">\n",
       "  <thead>\n",
       "    <tr style=\"text-align: right;\">\n",
       "      <th></th>\n",
       "      <th>variable</th>\n",
       "      <th>q_nan</th>\n",
       "      <th>p_nan</th>\n",
       "      <th>q_zeros</th>\n",
       "      <th>p_zeros</th>\n",
       "      <th>unique</th>\n",
       "      <th>type</th>\n",
       "    </tr>\n",
       "  </thead>\n",
       "  <tbody>\n",
       "    <tr>\n",
       "      <th>0</th>\n",
       "      <td>transactionFailed</td>\n",
       "      <td>0</td>\n",
       "      <td>0.0</td>\n",
       "      <td>455</td>\n",
       "      <td>0.731511</td>\n",
       "      <td>2</td>\n",
       "      <td>bool</td>\n",
       "    </tr>\n",
       "    <tr>\n",
       "      <th>1</th>\n",
       "      <td>orderAmount_(9.999, 18.2]</td>\n",
       "      <td>0</td>\n",
       "      <td>0.0</td>\n",
       "      <td>526</td>\n",
       "      <td>0.845659</td>\n",
       "      <td>2</td>\n",
       "      <td>int64</td>\n",
       "    </tr>\n",
       "    <tr>\n",
       "      <th>2</th>\n",
       "      <td>orderAmount_(18.2, 30.4]</td>\n",
       "      <td>0</td>\n",
       "      <td>0.0</td>\n",
       "      <td>527</td>\n",
       "      <td>0.847267</td>\n",
       "      <td>2</td>\n",
       "      <td>int64</td>\n",
       "    </tr>\n",
       "    <tr>\n",
       "      <th>3</th>\n",
       "      <td>orderAmount_(30.4, 39.0]</td>\n",
       "      <td>0</td>\n",
       "      <td>0.0</td>\n",
       "      <td>524</td>\n",
       "      <td>0.842444</td>\n",
       "      <td>2</td>\n",
       "      <td>int64</td>\n",
       "    </tr>\n",
       "    <tr>\n",
       "      <th>4</th>\n",
       "      <td>orderAmount_(39.0, 47.0]</td>\n",
       "      <td>0</td>\n",
       "      <td>0.0</td>\n",
       "      <td>525</td>\n",
       "      <td>0.844051</td>\n",
       "      <td>2</td>\n",
       "      <td>int64</td>\n",
       "    </tr>\n",
       "    <tr>\n",
       "      <th>...</th>\n",
       "      <td>...</td>\n",
       "      <td>...</td>\n",
       "      <td>...</td>\n",
       "      <td>...</td>\n",
       "      <td>...</td>\n",
       "      <td>...</td>\n",
       "      <td>...</td>\n",
       "    </tr>\n",
       "    <tr>\n",
       "      <th>59</th>\n",
       "      <td>sameCity_no</td>\n",
       "      <td>0</td>\n",
       "      <td>0.0</td>\n",
       "      <td>485</td>\n",
       "      <td>0.779743</td>\n",
       "      <td>2</td>\n",
       "      <td>int64</td>\n",
       "    </tr>\n",
       "    <tr>\n",
       "      <th>60</th>\n",
       "      <td>sameCity_unknown</td>\n",
       "      <td>0</td>\n",
       "      <td>0.0</td>\n",
       "      <td>139</td>\n",
       "      <td>0.223473</td>\n",
       "      <td>2</td>\n",
       "      <td>int64</td>\n",
       "    </tr>\n",
       "    <tr>\n",
       "      <th>61</th>\n",
       "      <td>sameCity_yes</td>\n",
       "      <td>0</td>\n",
       "      <td>0.0</td>\n",
       "      <td>620</td>\n",
       "      <td>0.996785</td>\n",
       "      <td>2</td>\n",
       "      <td>int64</td>\n",
       "    </tr>\n",
       "    <tr>\n",
       "      <th>62</th>\n",
       "      <td>sameCity_nan</td>\n",
       "      <td>0</td>\n",
       "      <td>0.0</td>\n",
       "      <td>622</td>\n",
       "      <td>1.000000</td>\n",
       "      <td>1</td>\n",
       "      <td>int64</td>\n",
       "    </tr>\n",
       "    <tr>\n",
       "      <th>63</th>\n",
       "      <td>fraudulent</td>\n",
       "      <td>0</td>\n",
       "      <td>0.0</td>\n",
       "      <td>107</td>\n",
       "      <td>0.172026</td>\n",
       "      <td>3</td>\n",
       "      <td>int64</td>\n",
       "    </tr>\n",
       "  </tbody>\n",
       "</table>\n",
       "<p>64 rows × 7 columns</p>\n",
       "</div>"
      ],
      "text/plain": [
       "                     variable  q_nan  p_nan  q_zeros   p_zeros  unique   type\n",
       "0           transactionFailed      0    0.0      455  0.731511       2   bool\n",
       "1   orderAmount_(9.999, 18.2]      0    0.0      526  0.845659       2  int64\n",
       "2    orderAmount_(18.2, 30.4]      0    0.0      527  0.847267       2  int64\n",
       "3    orderAmount_(30.4, 39.0]      0    0.0      524  0.842444       2  int64\n",
       "4    orderAmount_(39.0, 47.0]      0    0.0      525  0.844051       2  int64\n",
       "..                        ...    ...    ...      ...       ...     ...    ...\n",
       "59                sameCity_no      0    0.0      485  0.779743       2  int64\n",
       "60           sameCity_unknown      0    0.0      139  0.223473       2  int64\n",
       "61               sameCity_yes      0    0.0      620  0.996785       2  int64\n",
       "62               sameCity_nan      0    0.0      622  1.000000       1  int64\n",
       "63                 fraudulent      0    0.0      107  0.172026       3  int64\n",
       "\n",
       "[64 rows x 7 columns]"
      ]
     },
     "execution_count": 50,
     "metadata": {},
     "output_type": "execute_result"
    }
   ],
   "source": [
    "# data no tenía la columna fraudulent, se la he agregado de customer_data_preparado_sin_ohe\n",
    "# Ahora data está completo como para comenzar con los pasos de la clasificación\n",
    "\n",
    "status(data)\n"
   ]
  },
  {
   "cell_type": "code",
   "execution_count": 51,
   "metadata": {},
   "outputs": [],
   "source": [
    "# Separamos X de Y. (Se que no era necesario juntarlos y ahora separarlos, pero así me queda más ordenado para verlo en el futuro)\n",
    "\n",
    "data_x=data.drop('fraudulent', axis=1)\n",
    "data_y=data['fraudulent']\n",
    "\n",
    "# Nos quedamos solo con los valores del dataframe\n",
    "\n",
    "data_x = data_x.values\n",
    "data_y = data_y.values"
   ]
  },
  {
   "cell_type": "code",
   "execution_count": 52,
   "metadata": {},
   "outputs": [
    {
     "data": {
      "text/plain": [
       "0.3"
      ]
     },
     "execution_count": 52,
     "metadata": {},
     "output_type": "execute_result"
    }
   ],
   "source": [
    "# Hacemos la separación de data para el train y data para el test.\n",
    "\n",
    "from sklearn.model_selection import train_test_split\n",
    "\n",
    "TEST_SIZE = 0.3\n",
    "\n",
    "x_train, x_test, y_train, y_test = train_test_split(data_x, data_y, test_size=TEST_SIZE)\n",
    "\n",
    "mlflow.log_param(\"Porcentaje para TEST\", TEST_SIZE)"
   ]
  },
  {
   "cell_type": "code",
   "execution_count": 53,
   "metadata": {},
   "outputs": [],
   "source": [
    "# Creación del modelo predictivo con RANDOM FOREST CLASSIFIER (queremos clasificar en Fraudulent: FALSE, TRUE o WARNING)\n",
    "\n",
    "from sklearn.ensemble import RandomForestClassifier\n",
    "\n",
    "N_ESTIMATORS = 500\n",
    "RANDOM_STATE = 99\n",
    "\n",
    "# Creamos 500 decision trees\n",
    "rf = RandomForestClassifier(n_estimators = N_ESTIMATORS, random_state = RANDOM_STATE)"
   ]
  },
  {
   "cell_type": "code",
   "execution_count": 54,
   "metadata": {},
   "outputs": [
    {
     "data": {
      "text/plain": [
       "99"
      ]
     },
     "execution_count": 54,
     "metadata": {},
     "output_type": "execute_result"
    }
   ],
   "source": [
    "mlflow.log_param(\"Número de estimadores\", N_ESTIMATORS)\n",
    "mlflow.log_param(\"Valor semilla\", RANDOM_STATE)"
   ]
  },
  {
   "cell_type": "code",
   "execution_count": 55,
   "metadata": {},
   "outputs": [
    {
     "data": {
      "text/html": [
       "<style>#sk-container-id-3 {color: black;background-color: white;}#sk-container-id-3 pre{padding: 0;}#sk-container-id-3 div.sk-toggleable {background-color: white;}#sk-container-id-3 label.sk-toggleable__label {cursor: pointer;display: block;width: 100%;margin-bottom: 0;padding: 0.3em;box-sizing: border-box;text-align: center;}#sk-container-id-3 label.sk-toggleable__label-arrow:before {content: \"▸\";float: left;margin-right: 0.25em;color: #696969;}#sk-container-id-3 label.sk-toggleable__label-arrow:hover:before {color: black;}#sk-container-id-3 div.sk-estimator:hover label.sk-toggleable__label-arrow:before {color: black;}#sk-container-id-3 div.sk-toggleable__content {max-height: 0;max-width: 0;overflow: hidden;text-align: left;background-color: #f0f8ff;}#sk-container-id-3 div.sk-toggleable__content pre {margin: 0.2em;color: black;border-radius: 0.25em;background-color: #f0f8ff;}#sk-container-id-3 input.sk-toggleable__control:checked~div.sk-toggleable__content {max-height: 200px;max-width: 100%;overflow: auto;}#sk-container-id-3 input.sk-toggleable__control:checked~label.sk-toggleable__label-arrow:before {content: \"▾\";}#sk-container-id-3 div.sk-estimator input.sk-toggleable__control:checked~label.sk-toggleable__label {background-color: #d4ebff;}#sk-container-id-3 div.sk-label input.sk-toggleable__control:checked~label.sk-toggleable__label {background-color: #d4ebff;}#sk-container-id-3 input.sk-hidden--visually {border: 0;clip: rect(1px 1px 1px 1px);clip: rect(1px, 1px, 1px, 1px);height: 1px;margin: -1px;overflow: hidden;padding: 0;position: absolute;width: 1px;}#sk-container-id-3 div.sk-estimator {font-family: monospace;background-color: #f0f8ff;border: 1px dotted black;border-radius: 0.25em;box-sizing: border-box;margin-bottom: 0.5em;}#sk-container-id-3 div.sk-estimator:hover {background-color: #d4ebff;}#sk-container-id-3 div.sk-parallel-item::after {content: \"\";width: 100%;border-bottom: 1px solid gray;flex-grow: 1;}#sk-container-id-3 div.sk-label:hover label.sk-toggleable__label {background-color: #d4ebff;}#sk-container-id-3 div.sk-serial::before {content: \"\";position: absolute;border-left: 1px solid gray;box-sizing: border-box;top: 0;bottom: 0;left: 50%;z-index: 0;}#sk-container-id-3 div.sk-serial {display: flex;flex-direction: column;align-items: center;background-color: white;padding-right: 0.2em;padding-left: 0.2em;position: relative;}#sk-container-id-3 div.sk-item {position: relative;z-index: 1;}#sk-container-id-3 div.sk-parallel {display: flex;align-items: stretch;justify-content: center;background-color: white;position: relative;}#sk-container-id-3 div.sk-item::before, #sk-container-id-3 div.sk-parallel-item::before {content: \"\";position: absolute;border-left: 1px solid gray;box-sizing: border-box;top: 0;bottom: 0;left: 50%;z-index: -1;}#sk-container-id-3 div.sk-parallel-item {display: flex;flex-direction: column;z-index: 1;position: relative;background-color: white;}#sk-container-id-3 div.sk-parallel-item:first-child::after {align-self: flex-end;width: 50%;}#sk-container-id-3 div.sk-parallel-item:last-child::after {align-self: flex-start;width: 50%;}#sk-container-id-3 div.sk-parallel-item:only-child::after {width: 0;}#sk-container-id-3 div.sk-dashed-wrapped {border: 1px dashed gray;margin: 0 0.4em 0.5em 0.4em;box-sizing: border-box;padding-bottom: 0.4em;background-color: white;}#sk-container-id-3 div.sk-label label {font-family: monospace;font-weight: bold;display: inline-block;line-height: 1.2em;}#sk-container-id-3 div.sk-label-container {text-align: center;}#sk-container-id-3 div.sk-container {/* jupyter's `normalize.less` sets `[hidden] { display: none; }` but bootstrap.min.css set `[hidden] { display: none !important; }` so we also need the `!important` here to be able to override the default hidden behavior on the sphinx rendered scikit-learn.org. See: https://github.com/scikit-learn/scikit-learn/issues/21755 */display: inline-block !important;position: relative;}#sk-container-id-3 div.sk-text-repr-fallback {display: none;}</style><div id=\"sk-container-id-3\" class=\"sk-top-container\"><div class=\"sk-text-repr-fallback\"><pre>RandomForestClassifier(n_estimators=500, random_state=99)</pre><b>In a Jupyter environment, please rerun this cell to show the HTML representation or trust the notebook. <br />On GitHub, the HTML representation is unable to render, please try loading this page with nbviewer.org.</b></div><div class=\"sk-container\" hidden><div class=\"sk-item\"><div class=\"sk-estimator sk-toggleable\"><input class=\"sk-toggleable__control sk-hidden--visually\" id=\"sk-estimator-id-3\" type=\"checkbox\" checked><label for=\"sk-estimator-id-3\" class=\"sk-toggleable__label sk-toggleable__label-arrow\">RandomForestClassifier</label><div class=\"sk-toggleable__content\"><pre>RandomForestClassifier(n_estimators=500, random_state=99)</pre></div></div></div></div></div>"
      ],
      "text/plain": [
       "RandomForestClassifier(n_estimators=500, random_state=99)"
      ]
     },
     "execution_count": 55,
     "metadata": {},
     "output_type": "execute_result"
    }
   ],
   "source": [
    "rf.fit(x_train, y_train)"
   ]
  },
  {
   "cell_type": "code",
   "execution_count": 56,
   "metadata": {},
   "outputs": [],
   "source": [
    "# Predicción de la clase y score:\n",
    "\n",
    "# En training\n",
    "pred_tr=rf.predict(x_train)\n",
    "\n",
    "# En testing\n",
    "pred_ts=rf.predict(x_test)"
   ]
  },
  {
   "cell_type": "code",
   "execution_count": 57,
   "metadata": {},
   "outputs": [
    {
     "data": {
      "text/plain": [
       "1.0"
      ]
     },
     "execution_count": 57,
     "metadata": {},
     "output_type": "execute_result"
    }
   ],
   "source": [
    "df_val_tr=pd.DataFrame({'y_train':y_train, 'pred_tr':pred_tr})\n",
    "\n",
    "# ¿cuántos aciertos?\n",
    "sum(df_val_tr.y_train==df_val_tr.pred_tr)/len(df_val_tr)"
   ]
  },
  {
   "cell_type": "code",
   "execution_count": 58,
   "metadata": {},
   "outputs": [
    {
     "name": "stdout",
     "output_type": "stream",
     "text": [
      "1.0\n"
     ]
    }
   ],
   "source": [
    "from sklearn.metrics import accuracy_score\n",
    "\n",
    "accuracy_train = accuracy_score(df_val_tr.y_train, df_val_tr.pred_tr, normalize=True)\n",
    "print(accuracy_train)\n",
    "\n",
    "# Guardamos el Accuracy de train\n",
    "\n",
    "mlflow.log_metric(\"Accuracy en Train\", accuracy_train)"
   ]
  },
  {
   "cell_type": "code",
   "execution_count": 59,
   "metadata": {},
   "outputs": [
    {
     "data": {
      "text/plain": [
       "array([[0.  , 0.  , 1.  ],\n",
       "       [0.28, 0.72, 0.  ],\n",
       "       [0.  , 0.  , 1.  ],\n",
       "       ...,\n",
       "       [0.  , 0.  , 1.  ],\n",
       "       [0.  , 0.  , 1.  ],\n",
       "       [0.  , 0.  , 1.  ]])"
      ]
     },
     "execution_count": 59,
     "metadata": {},
     "output_type": "execute_result"
    }
   ],
   "source": [
    "pred_probs=rf.predict_proba(x_train)\n",
    "pred_probs"
   ]
  },
  {
   "cell_type": "code",
   "execution_count": 60,
   "metadata": {},
   "outputs": [
    {
     "data": {
      "text/plain": [
       "array([0.   , 0.72 , 0.   , 0.82 , 0.   , 0.   , 0.   , 0.872, 0.   ,\n",
       "       0.   , 0.002, 0.   , 0.   , 0.   , 0.   , 0.   , 0.792, 0.004,\n",
       "       0.   , 0.   , 0.074, 0.   , 0.   , 0.   , 0.   , 0.   , 0.   ,\n",
       "       0.126, 0.   , 0.006, 0.   , 0.   , 0.   , 0.   , 0.858, 0.   ,\n",
       "       0.   , 0.   , 0.756, 0.002, 0.   , 0.   , 0.   , 0.728, 0.082,\n",
       "       0.   , 0.688, 0.   , 0.198, 0.82 , 0.   , 0.   , 0.   , 0.888,\n",
       "       0.   , 0.   , 0.   , 0.208, 0.002, 0.   , 0.   , 0.   , 0.   ,\n",
       "       0.   , 0.002, 0.   , 0.   , 0.002, 0.   , 0.104, 0.   , 0.834,\n",
       "       0.   , 0.   , 0.   , 0.778, 0.   , 0.112, 0.   , 0.188, 0.   ,\n",
       "       0.744, 0.14 , 0.   , 0.1  , 0.   , 0.862, 0.   , 0.   , 0.002,\n",
       "       0.   , 0.   , 0.002, 0.116, 0.204, 0.   , 0.   , 0.   , 0.   ,\n",
       "       0.856, 0.192, 0.   , 0.   , 0.   , 0.   , 0.174, 0.   , 0.082,\n",
       "       0.774, 0.   , 0.   , 0.   , 0.   , 0.   , 0.   , 0.   , 0.   ,\n",
       "       0.738, 0.   , 0.   , 0.752, 0.   , 0.   , 0.   , 0.002, 0.102,\n",
       "       0.   , 0.146, 0.882, 0.   , 0.004, 0.11 , 0.   , 0.002, 0.744,\n",
       "       0.   , 0.   , 0.   , 0.896, 0.   , 0.102, 0.   , 0.13 , 0.078,\n",
       "       0.184, 0.136, 0.   , 0.   , 0.   , 0.   , 0.012, 0.002, 0.004,\n",
       "       0.   , 0.002, 0.   , 0.002, 0.774, 0.   , 0.006, 0.   , 0.206,\n",
       "       0.   , 0.   , 0.   , 0.   , 0.   , 0.126, 0.004, 0.004, 0.002,\n",
       "       0.146, 0.   , 0.   , 0.   , 0.128, 0.082, 0.002, 0.   , 0.   ,\n",
       "       0.   , 0.   , 0.   , 0.778, 0.   , 0.   , 0.   , 0.   , 0.   ,\n",
       "       0.758, 0.   , 0.842, 0.002, 0.238, 0.   , 0.   , 0.   , 0.24 ,\n",
       "       0.   , 0.   , 0.   , 0.   , 0.092, 0.   , 0.   , 0.   , 0.   ,\n",
       "       0.   , 0.   , 0.   , 0.   , 0.   , 0.114, 0.11 , 0.208, 0.006,\n",
       "       0.154, 0.   , 0.   , 0.006, 0.   , 0.   , 0.   , 0.   , 0.   ,\n",
       "       0.   , 0.   , 0.   , 0.   , 0.826, 0.   , 0.732, 0.11 , 0.   ,\n",
       "       0.108, 0.674, 0.   , 0.   , 0.   , 0.132, 0.104, 0.   , 0.056,\n",
       "       0.   , 0.002, 0.   , 0.   , 0.716, 0.002, 0.   , 0.   , 0.   ,\n",
       "       0.156, 0.   , 0.71 , 0.   , 0.   , 0.082, 0.   , 0.104, 0.   ,\n",
       "       0.   , 0.   , 0.   , 0.   , 0.   , 0.156, 0.006, 0.   , 0.   ,\n",
       "       0.   , 0.   , 0.   , 0.002, 0.814, 0.   , 0.   , 0.   , 0.002,\n",
       "       0.   , 0.   , 0.   , 0.   , 0.   , 0.   , 0.   , 0.   , 0.   ,\n",
       "       0.   , 0.922, 0.146, 0.79 , 0.   , 0.   , 0.   , 0.   , 0.   ,\n",
       "       0.   , 0.   , 0.008, 0.78 , 0.108, 0.   , 0.   , 0.062, 0.   ,\n",
       "       0.   , 0.   , 0.   , 0.   , 0.   , 0.   , 0.776, 0.012, 0.13 ,\n",
       "       0.   , 0.716, 0.   , 0.166, 0.778, 0.   , 0.   , 0.154, 0.   ,\n",
       "       0.   , 0.   , 0.   , 0.   , 0.   , 0.   , 0.8  , 0.   , 0.138,\n",
       "       0.   , 0.   , 0.074, 0.   , 0.002, 0.   , 0.086, 0.206, 0.   ,\n",
       "       0.   , 0.   , 0.23 , 0.   , 0.142, 0.   , 0.126, 0.212, 0.182,\n",
       "       0.078, 0.   , 0.   , 0.162, 0.   , 0.   , 0.002, 0.074, 0.   ,\n",
       "       0.   , 0.11 , 0.   , 0.   , 0.   , 0.   , 0.146, 0.   , 0.   ,\n",
       "       0.176, 0.178, 0.12 , 0.72 , 0.   , 0.114, 0.   , 0.   , 0.   ,\n",
       "       0.   , 0.742, 0.   , 0.   , 0.   , 0.   , 0.002, 0.   , 0.704,\n",
       "       0.004, 0.   , 0.006, 0.162, 0.   , 0.778, 0.   , 0.   , 0.   ,\n",
       "       0.   , 0.   , 0.132, 0.   , 0.182, 0.   , 0.   , 0.   , 0.93 ,\n",
       "       0.   , 0.23 , 0.738, 0.   , 0.74 , 0.004, 0.   , 0.   , 0.002,\n",
       "       0.882, 0.074, 0.   , 0.   , 0.952, 0.   , 0.   , 0.   , 0.   ,\n",
       "       0.   , 0.   , 0.   , 0.762, 0.   , 0.   , 0.   , 0.   , 0.   ,\n",
       "       0.   , 0.   , 0.   ])"
      ]
     },
     "execution_count": 60,
     "metadata": {},
     "output_type": "execute_result"
    }
   ],
   "source": [
    "y_prob_tr=pred_probs[:,1]\n",
    "y_prob_tr"
   ]
  },
  {
   "cell_type": "code",
   "execution_count": 61,
   "metadata": {},
   "outputs": [],
   "source": [
    "# Matriz de confusión\n",
    "\n",
    "# atención, asume 0.5 como punto de corte\n",
    "from sklearn.metrics import ConfusionMatrixDisplay\n",
    "import seaborn as sns"
   ]
  },
  {
   "cell_type": "code",
   "execution_count": 62,
   "metadata": {},
   "outputs": [
    {
     "data": {
      "text/plain": [
       "<sklearn.metrics._plot.confusion_matrix.ConfusionMatrixDisplay at 0x1aef9c921d0>"
      ]
     },
     "execution_count": 62,
     "metadata": {},
     "output_type": "execute_result"
    },
    {
     "data": {
      "image/png": "[encoded data removed]",
      "text/plain": [
       "<Figure size 640x480 with 2 Axes>"
      ]
     },
     "metadata": {},
     "output_type": "display_data"
    }
   ],
   "source": [
    "# Valores absolutos\n",
    "\n",
    "sns.set(font_scale=1.1) #  Ajuste tamaño de letra (var global)\n",
    "\n",
    "ConfusionMatrixDisplay.from_estimator(\n",
    "    rf, x_train, y_train,\n",
    "    display_labels=['False','True', 'Warning'],\n",
    "    cmap='Reds',\n",
    "    )"
   ]
  },
  {
   "cell_type": "code",
   "execution_count": 63,
   "metadata": {},
   "outputs": [],
   "source": [
    "# A continuación procedemos a guardar el modelo\n",
    "\n",
    "import pickle\n",
    "\n",
    "filename = 'data/modelo_proyecto_final.pkl'\n",
    "pickle.dump(rf, open(filename, 'wb'))\n",
    " "
   ]
  },
  {
   "cell_type": "code",
   "execution_count": 64,
   "metadata": {},
   "outputs": [
    {
     "data": {
      "text/plain": [
       "<mlflow.models.model.ModelInfo at 0x1ae801c19d0>"
      ]
     },
     "execution_count": 64,
     "metadata": {},
     "output_type": "execute_result"
    }
   ],
   "source": [
    "mlflow.sklearn.log_model(rf, \"Modelo_de_random_forest_PROYECTO_FINAL\")"
   ]
  },
  {
   "cell_type": "code",
   "execution_count": 65,
   "metadata": {},
   "outputs": [],
   "source": [
    "# !mlflow ui \n",
    "# Para correr la interfaz gráfica de MLflow (desde el notebook)\n",
    "# Abrir localhost/5000 en el navegador"
   ]
  }
 ],
 "metadata": {
  "kernelspec": {
   "display_name": "Python 3",
   "language": "python",
   "name": "python3"
  },
  "language_info": {
   "codemirror_mode": {
    "name": "ipython",
    "version": 3
   },
   "file_extension": ".py",
   "mimetype": "text/x-python",
   "name": "python",
   "nbconvert_exporter": "python",
   "pygments_lexer": "ipython3",
   "version": "3.11.2"
  },
  "orig_nbformat": 4
 },
 "nbformat": 4,
 "nbformat_minor": 2
}
